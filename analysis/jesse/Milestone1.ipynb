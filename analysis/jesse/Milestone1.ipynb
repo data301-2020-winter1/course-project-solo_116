{
 "cells": [
  {
   "cell_type": "code",
   "execution_count": 8,
   "metadata": {},
   "outputs": [
    {
     "name": "stdout",
     "output_type": "stream",
     "text": [
      "   patient_id     sex  age country province         city  \\\n",
      "0  1000000001    male  50s   Korea    Seoul   Gangseo-gu   \n",
      "1  1000000002    male  30s   Korea    Seoul  Jungnang-gu   \n",
      "2  1000000003    male  50s   Korea    Seoul    Jongno-gu   \n",
      "3  1000000004    male  20s   Korea    Seoul      Mapo-gu   \n",
      "4  1000000005  female  20s   Korea    Seoul  Seongbuk-gu   \n",
      "\n",
      "         infection_case infected_by contact_number symptom_onset_date  \\\n",
      "0       overseas inflow         NaN             75         2020-01-22   \n",
      "1       overseas inflow         NaN             31                NaN   \n",
      "2  contact with patient  2002000001             17                NaN   \n",
      "3       overseas inflow         NaN              9         2020-01-26   \n",
      "4  contact with patient  1000000002              2                NaN   \n",
      "\n",
      "  confirmed_date released_date deceased_date     state  \n",
      "0     2020-01-23    2020-02-05           NaN  released  \n",
      "1     2020-01-30    2020-03-02           NaN  released  \n",
      "2     2020-01-30    2020-02-19           NaN  released  \n",
      "3     2020-01-30    2020-02-15           NaN  released  \n",
      "4     2020-01-31    2020-02-24           NaN  released  \n"
     ]
    }
   ],
   "source": [
    "import pandas as pd\n",
    "url = 'https://raw.githubusercontent.com/data301-2020-winter1/course-project-solo_116/main/data/raw/PatientInfo.csv?token=ARAZ2TJT3MUHWEO57MJ3CDS7SMPY6'\n",
    "df = pd.read_csv(url, error_bad_lines=False)\n",
    "print(df.head(5))"
   ]
  },
  {
   "cell_type": "code",
   "execution_count": null,
   "metadata": {},
   "outputs": [],
   "source": []
  },
  {
   "cell_type": "code",
   "execution_count": null,
   "metadata": {},
   "outputs": [],
   "source": []
  }
 ],
 "metadata": {
  "kernelspec": {
   "display_name": "Python 3",
   "language": "python",
   "name": "python3"
  },
  "language_info": {
   "codemirror_mode": {
    "name": "ipython",
    "version": 3
   },
   "file_extension": ".py",
   "mimetype": "text/x-python",
   "name": "python",
   "nbconvert_exporter": "python",
   "pygments_lexer": "ipython3",
   "version": "3.8.3"
  }
 },
 "nbformat": 4,
 "nbformat_minor": 4
}
